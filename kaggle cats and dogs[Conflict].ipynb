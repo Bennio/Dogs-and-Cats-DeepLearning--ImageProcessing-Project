{
 "cells": [
  {
   "cell_type": "code",
   "execution_count": 2,
   "metadata": {},
   "outputs": [
    {
     "data": {
      "text/plain": [
       "<Figure size 640x480 with 1 Axes>"
      ]
     },
     "metadata": {},
     "output_type": "display_data"
    }
   ],
   "source": [
    "import numpy as np\n",
    "import matplotlib.pyplot as plt\n",
    "import os\n",
    "import cv2\n",
    "from tqdm import tqdm\n",
    "\n",
    "DATADIR = \"PetImages\"\n",
    "\n",
    "CATEGORIES = [\"Dog\", \"Cat\"]\n",
    "\n",
    "for category in CATEGORIES:  # do dogs and cats\n",
    "    path = os.path.join(DATADIR,category)  # create path to dogs and cats\n",
    "    for img in os.listdir(path):  # iterate over each image per dogs and cats\n",
    "        img_array = cv2.imread(os.path.join(path,img) ,cv2.IMREAD_GRAYSCALE)  # convert to array\n",
    "        plt.imshow(img_array, cmap='gray')  # graph it\n",
    "        plt.show()  # display!\n",
    "\n",
    "        break  # we just want one for now so break\n",
    "    break  #...and one more!"
   ]
  },
  {
   "cell_type": "code",
   "execution_count": 3,
   "metadata": {},
   "outputs": [
    {
     "name": "stdout",
     "output_type": "stream",
     "text": [
      "[[117 117 119 ... 133 132 132]\n",
      " [118 117 119 ... 135 134 134]\n",
      " [119 118 120 ... 137 136 136]\n",
      " ...\n",
      " [ 79  74  73 ...  80  76  73]\n",
      " [ 78  72  69 ...  72  73  74]\n",
      " [ 74  71  70 ...  75  73  71]]\n"
     ]
    }
   ],
   "source": [
    "print(img_array)"
   ]
  },
  {
   "cell_type": "code",
   "execution_count": 4,
   "metadata": {},
   "outputs": [
    {
     "name": "stdout",
     "output_type": "stream",
     "text": [
      "(375, 500)\n"
     ]
    }
   ],
   "source": [
    "print(img_array.shape)"
   ]
  },
  {
   "cell_type": "markdown",
   "metadata": {},
   "source": [
    "### Resizing the image size"
   ]
  },
  {
   "cell_type": "code",
   "execution_count": 5,
   "metadata": {},
   "outputs": [
    {
     "data": {
      "image/png": "[encoded data removed]",
      "text/plain": [
       "<Figure size 432x288 with 1 Axes>"
      ]
     },
     "metadata": {
      "needs_background": "light"
     },
     "output_type": "display_data"
    }
   ],
   "source": [
    "IMG_SIZE = 50\n",
    "\n",
    "new_array = cv2.resize(img_array, (IMG_SIZE, IMG_SIZE))\n",
    "plt.imshow(new_array, cmap='gray')\n",
    "plt.show()"
   ]
  },
  {
   "cell_type": "code",
   "execution_count": 6,
   "metadata": {},
   "outputs": [
    {
     "data": {
      "image/png": "[encoded data removed]",
      "text/plain": [
       "<Figure size 432x288 with 1 Axes>"
      ]
     },
     "metadata": {
      "needs_background": "light"
     },
     "output_type": "display_data"
    }
   ],
   "source": [
    "new_array = cv2.resize(img_array, (IMG_SIZE, IMG_SIZE))\n",
    "plt.imshow(new_array, cmap='gray')\n",
    "plt.show()"
   ]
  },
  {
   "cell_type": "code",
   "execution_count": 7,
   "metadata": {},
   "outputs": [
    {
     "data": {
      "text/plain": [
       "\"Better. Let's try that. Next, we're going to want to \\ncreate training data and all that, but, first, we \\nshould set aside some images for final testing.\\nI am going to just manually create a directory called\\nTesting and then create 2 directories inside of there, \\none for Dog and one for Cat. From here, I am just going to\\nmove the first 15 images from both Dog and Cat into the\\ntraining versions. Make sure you move them, not copy. \\nWe will use this for our final tests.\""
      ]
     },
     "execution_count": 7,
     "metadata": {},
     "output_type": "execute_result"
    }
   ],
   "source": [
    "'''Better. Let's try that. Next, we're going to want to \n",
    "create training data and all that, but, first, we \n",
    "should set aside some images for final testing.\n",
    "I am going to just manually create a directory called\n",
    "Testing and then create 2 directories inside of there, \n",
    "one for Dog and one for Cat. From here, I am just going to\n",
    "move the first 15 images from both Dog and Cat into the\n",
    "training versions. Make sure you move them, not copy. \n",
    "We will use this for our final tests.'''"
   ]
  },
  {
   "cell_type": "code",
   "execution_count": 8,
   "metadata": {},
   "outputs": [
    {
     "name": "stderr",
     "output_type": "stream",
     "text": [
      "100%|██████████| 12501/12501 [01:38<00:00, 127.23it/s]\n",
      "100%|██████████| 12501/12501 [01:50<00:00, 112.89it/s]\n"
     ]
    },
    {
     "name": "stdout",
     "output_type": "stream",
     "text": [
      "24946\n"
     ]
    }
   ],
   "source": [
    "training_data = []\n",
    "\n",
    "def create_training_data():\n",
    "    for category in CATEGORIES:  # do dogs and cats\n",
    "\n",
    "        path = os.path.join(DATADIR,category)  # create path to dogs and cats\n",
    "        class_num = CATEGORIES.index(category)  # get the classification  (0 or a 1). 0=dog 1=cat\n",
    "\n",
    "        for img in tqdm(os.listdir(path)):  # iterate over each image per dogs and cats\n",
    "            try:\n",
    "                img_array = cv2.imread(os.path.join(path,img) ,cv2.IMREAD_GRAYSCALE)  # convert to array\n",
    "                new_array = cv2.resize(img_array, (IMG_SIZE, IMG_SIZE))  # resize to normalize data size\n",
    "                training_data.append([new_array, class_num])  # add this to our training_data\n",
    "            except Exception as e:  # in the interest in keeping the output clean...\n",
    "                pass\n",
    "            #except OSError as e:\n",
    "            #    print(\"OSErrroBad img most likely\", e, os.path.join(path,img))\n",
    "            #except Exception as e:\n",
    "            #    print(\"general exception\", e, os.path.join(path,img))\n",
    "\n",
    "create_training_data()\n",
    "\n",
    "print(len(training_data))"
   ]
  },
  {
   "cell_type": "code",
   "execution_count": 9,
   "metadata": {},
   "outputs": [
    {
     "name": "stderr",
     "output_type": "stream",
     "text": [
      "IOPub data rate exceeded.\n",
      "The notebook server will temporarily stop sending output\n",
      "to the client in order to avoid crashing it.\n",
      "To change this limit, set the config variable\n",
      "`--NotebookApp.iopub_data_rate_limit`.\n",
      "\n",
      "Current values:\n",
      "NotebookApp.iopub_data_rate_limit=1000000.0 (bytes/sec)\n",
      "NotebookApp.rate_limit_window=3.0 (secs)\n",
      "\n"
     ]
    },
    {
     "name": "stdout",
     "output_type": "stream",
     "text": [
      "\n"
     ]
    }
   ],
   "source": [
    "print(training_data)"
   ]
  },
  {
   "cell_type": "code",
   "execution_count": 10,
   "metadata": {},
   "outputs": [],
   "source": [
    "import random"
   ]
  },
  {
   "cell_type": "code",
   "execution_count": 11,
   "metadata": {},
   "outputs": [],
   "source": [
    "random.shuffle(training_data)"
   ]
  },
  {
   "cell_type": "code",
   "execution_count": 12,
   "metadata": {},
   "outputs": [
    {
     "name": "stdout",
     "output_type": "stream",
     "text": [
      "0\n",
      "0\n",
      "0\n",
      "0\n",
      "0\n",
      "0\n",
      "1\n",
      "1\n",
      "0\n",
      "1\n"
     ]
    }
   ],
   "source": [
    "for sample in training_data[:10]:\n",
    "    print(sample[1])"
   ]
  },
  {
   "cell_type": "markdown",
   "metadata": {},
   "source": [
    "### Model Evaluation\n"
   ]
  },
  {
   "cell_type": "code",
   "execution_count": 13,
   "metadata": {},
   "outputs": [
    {
     "name": "stdout",
     "output_type": "stream",
     "text": [
      "[[[[152]\n",
      "   [153]\n",
      "   [151]\n",
      "   ...\n",
      "   [161]\n",
      "   [161]\n",
      "   [160]]\n",
      "\n",
      "  [[153]\n",
      "   [150]\n",
      "   [150]\n",
      "   ...\n",
      "   [160]\n",
      "   [159]\n",
      "   [162]]\n",
      "\n",
      "  [[153]\n",
      "   [153]\n",
      "   [154]\n",
      "   ...\n",
      "   [158]\n",
      "   [157]\n",
      "   [154]]\n",
      "\n",
      "  ...\n",
      "\n",
      "  [[217]\n",
      "   [220]\n",
      "   [142]\n",
      "   ...\n",
      "   [ 37]\n",
      "   [ 33]\n",
      "   [ 40]]\n",
      "\n",
      "  [[178]\n",
      "   [116]\n",
      "   [115]\n",
      "   ...\n",
      "   [ 33]\n",
      "   [ 30]\n",
      "   [ 35]]\n",
      "\n",
      "  [[120]\n",
      "   [136]\n",
      "   [153]\n",
      "   ...\n",
      "   [ 36]\n",
      "   [ 34]\n",
      "   [ 31]]]]\n"
     ]
    }
   ],
   "source": [
    "#our features cannot take list so we have to first create an \n",
    "#an empty list and then append our features and labels\n",
    "X = []\n",
    "y = []\n",
    "\n",
    "for features,label in training_data:\n",
    "    X.append(features)\n",
    "    y.append(label)\n",
    "\n",
    "print(X[0].reshape(-1, IMG_SIZE, IMG_SIZE, 1))\n",
    "\n",
    "X = np.array(X).reshape(-1, IMG_SIZE, IMG_SIZE, 1)"
   ]
  },
  {
   "cell_type": "markdown",
   "metadata": {},
   "source": [
    "### Let's save this data, so that we don't need to keep calculating it every time we want to play with the neural network model:"
   ]
  },
  {
   "cell_type": "code",
   "execution_count": 14,
   "metadata": {},
   "outputs": [],
   "source": [
    "import pickle\n",
    "\n",
    "pickle_out = open(\"X.pickle\",\"wb\")\n",
    "pickle.dump(X, pickle_out)\n",
    "pickle_out.close()\n",
    "\n",
    "pickle_out = open(\"y.pickle\",\"wb\")\n",
    "pickle.dump(y, pickle_out)\n",
    "pickle_out.close()\n",
    "#We can always load it in to our current script,\n",
    "#or a totally new one by doing:\n",
    "\n",
    "pickle_in = open(\"X.pickle\",\"rb\")\n",
    "X = pickle.load(pickle_in)\n",
    "\n",
    "pickle_in = open(\"y.pickle\",\"rb\")\n",
    "y = pickle.load(pickle_in)"
   ]
  },
  {
   "cell_type": "markdown",
   "metadata": {},
   "source": [
    "# Convolutional Neural Networks"
   ]
  },
  {
   "cell_type": "code",
   "execution_count": null,
   "metadata": {},
   "outputs": [
    {
     "name": "stdout",
     "output_type": "stream",
     "text": [
      "Train on 17462 samples, validate on 7484 samples\n",
      "Epoch 1/3\n"
     ]
    },
    {
     "name": "stdout",
     "output_type": "stream",
     "text": [
      " 6496/17462 [==========>...................] - ETA: 45:10 - loss: 0.6837 - acc: 0.62 - ETA: 32:12 - loss: 1.7737 - acc: 0.62 - ETA: 27:20 - loss: 1.5401 - acc: 0.57 - ETA: 25:05 - loss: 1.3321 - acc: 0.55 - ETA: 23:38 - loss: 1.2029 - acc: 0.55 - ETA: 22:49 - loss: 1.1207 - acc: 0.53 - ETA: 22:18 - loss: 1.0592 - acc: 0.54 - ETA: 21:45 - loss: 1.0133 - acc: 0.53 - ETA: 21:20 - loss: 0.9800 - acc: 0.52 - ETA: 20:58 - loss: 0.9511 - acc: 0.52 - ETA: 20:39 - loss: 0.9267 - acc: 0.53 - ETA: 20:21 - loss: 0.9098 - acc: 0.52 - ETA: 20:05 - loss: 0.8951 - acc: 0.51 - ETA: 19:51 - loss: 0.8800 - acc: 0.52 - ETA: 19:39 - loss: 0.8675 - acc: 0.51 - ETA: 19:32 - loss: 0.8569 - acc: 0.51 - ETA: 19:22 - loss: 0.8471 - acc: 0.51 - ETA: 19:17 - loss: 0.8383 - acc: 0.51 - ETA: 19:10 - loss: 0.8312 - acc: 0.51 - ETA: 19:03 - loss: 0.8242 - acc: 0.51 - ETA: 18:55 - loss: 0.8177 - acc: 0.51 - ETA: 18:48 - loss: 0.8118 - acc: 0.51 - ETA: 18:41 - loss: 0.8064 - acc: 0.52 - ETA: 18:35 - loss: 0.8013 - acc: 0.52 - ETA: 18:29 - loss: 0.7965 - acc: 0.52 - ETA: 18:24 - loss: 0.7920 - acc: 0.52 - ETA: 18:18 - loss: 0.7891 - acc: 0.52 - ETA: 18:13 - loss: 0.7852 - acc: 0.52 - ETA: 18:09 - loss: 0.7823 - acc: 0.52 - ETA: 18:05 - loss: 0.7794 - acc: 0.51 - ETA: 18:01 - loss: 0.7764 - acc: 0.51 - ETA: 17:57 - loss: 0.7738 - acc: 0.51 - ETA: 17:53 - loss: 0.7712 - acc: 0.51 - ETA: 17:49 - loss: 0.7688 - acc: 0.51 - ETA: 17:45 - loss: 0.7663 - acc: 0.51 - ETA: 17:43 - loss: 0.7649 - acc: 0.51 - ETA: 17:39 - loss: 0.7628 - acc: 0.51 - ETA: 17:36 - loss: 0.7614 - acc: 0.50 - ETA: 17:32 - loss: 0.7594 - acc: 0.51 - ETA: 17:29 - loss: 0.7577 - acc: 0.51 - ETA: 17:26 - loss: 0.7558 - acc: 0.51 - ETA: 17:23 - loss: 0.7541 - acc: 0.51 - ETA: 17:20 - loss: 0.7524 - acc: 0.51 - ETA: 17:16 - loss: 0.7510 - acc: 0.51 - ETA: 17:13 - loss: 0.7493 - acc: 0.52 - ETA: 17:10 - loss: 0.7479 - acc: 0.52 - ETA: 17:07 - loss: 0.7464 - acc: 0.52 - ETA: 17:04 - loss: 0.7450 - acc: 0.52 - ETA: 17:01 - loss: 0.7434 - acc: 0.52 - ETA: 16:58 - loss: 0.7415 - acc: 0.53 - ETA: 16:55 - loss: 0.7398 - acc: 0.53 - ETA: 16:53 - loss: 0.7390 - acc: 0.53 - ETA: 16:51 - loss: 0.7385 - acc: 0.53 - ETA: 16:48 - loss: 0.7379 - acc: 0.53 - ETA: 16:46 - loss: 0.7361 - acc: 0.53 - ETA: 16:45 - loss: 0.7350 - acc: 0.53 - ETA: 16:43 - loss: 0.7357 - acc: 0.53 - ETA: 16:43 - loss: 0.7344 - acc: 0.53 - ETA: 16:42 - loss: 0.7337 - acc: 0.53 - ETA: 16:41 - loss: 0.7328 - acc: 0.53 - ETA: 16:37 - loss: 0.7318 - acc: 0.53 - ETA: 16:35 - loss: 0.7308 - acc: 0.53 - ETA: 16:34 - loss: 0.7297 - acc: 0.53 - ETA: 16:36 - loss: 0.7291 - acc: 0.53 - ETA: 16:36 - loss: 0.7283 - acc: 0.53 - ETA: 16:38 - loss: 0.7275 - acc: 0.53 - ETA: 16:35 - loss: 0.7266 - acc: 0.54 - ETA: 16:32 - loss: 0.7265 - acc: 0.53 - ETA: 16:35 - loss: 0.7250 - acc: 0.53 - ETA: 16:36 - loss: 0.7243 - acc: 0.53 - ETA: 16:33 - loss: 0.7240 - acc: 0.53 - ETA: 16:31 - loss: 0.7230 - acc: 0.53 - ETA: 16:29 - loss: 0.7225 - acc: 0.53 - ETA: 16:27 - loss: 0.7217 - acc: 0.53 - ETA: 16:26 - loss: 0.7208 - acc: 0.54 - ETA: 16:25 - loss: 0.7200 - acc: 0.54 - ETA: 16:25 - loss: 0.7194 - acc: 0.54 - ETA: 16:28 - loss: 0.7189 - acc: 0.54 - ETA: 16:26 - loss: 0.7182 - acc: 0.54 - ETA: 16:25 - loss: 0.7175 - acc: 0.54 - ETA: 16:23 - loss: 0.7175 - acc: 0.54 - ETA: 16:21 - loss: 0.7172 - acc: 0.54 - ETA: 16:18 - loss: 0.7164 - acc: 0.54 - ETA: 16:15 - loss: 0.7171 - acc: 0.54 - ETA: 16:13 - loss: 0.7162 - acc: 0.54 - ETA: 16:10 - loss: 0.7154 - acc: 0.54 - ETA: 16:08 - loss: 0.7150 - acc: 0.54 - ETA: 16:06 - loss: 0.7140 - acc: 0.54 - ETA: 16:03 - loss: 0.7131 - acc: 0.54 - ETA: 16:00 - loss: 0.7128 - acc: 0.54 - ETA: 15:58 - loss: 0.7121 - acc: 0.54 - ETA: 15:56 - loss: 0.7104 - acc: 0.55 - ETA: 15:54 - loss: 0.7102 - acc: 0.55 - ETA: 15:51 - loss: 0.7099 - acc: 0.55 - ETA: 15:50 - loss: 0.7090 - acc: 0.55 - ETA: 15:48 - loss: 0.7085 - acc: 0.55 - ETA: 15:45 - loss: 0.7084 - acc: 0.55 - ETA: 15:43 - loss: 0.7079 - acc: 0.55 - ETA: 15:41 - loss: 0.7079 - acc: 0.55 - ETA: 15:38 - loss: 0.7075 - acc: 0.55 - ETA: 15:36 - loss: 0.7071 - acc: 0.55 - ETA: 15:33 - loss: 0.7068 - acc: 0.55 - ETA: 15:31 - loss: 0.7071 - acc: 0.55 - ETA: 15:29 - loss: 0.7065 - acc: 0.55 - ETA: 15:26 - loss: 0.7060 - acc: 0.55 - ETA: 15:24 - loss: 0.7054 - acc: 0.55 - ETA: 15:21 - loss: 0.7058 - acc: 0.55 - ETA: 15:19 - loss: 0.7055 - acc: 0.55 - ETA: 15:17 - loss: 0.7054 - acc: 0.55 - ETA: 15:15 - loss: 0.7048 - acc: 0.55 - ETA: 15:12 - loss: 0.7041 - acc: 0.55 - ETA: 15:10 - loss: 0.7036 - acc: 0.55 - ETA: 15:08 - loss: 0.7035 - acc: 0.55 - ETA: 15:07 - loss: 0.7031 - acc: 0.55 - ETA: 15:07 - loss: 0.7028 - acc: 0.55 - ETA: 15:05 - loss: 0.7026 - acc: 0.55 - ETA: 15:03 - loss: 0.7030 - acc: 0.55 - ETA: 15:01 - loss: 0.7023 - acc: 0.55 - ETA: 14:59 - loss: 0.7026 - acc: 0.55 - ETA: 14:58 - loss: 0.7022 - acc: 0.55 - ETA: 14:59 - loss: 0.7018 - acc: 0.55 - ETA: 14:58 - loss: 0.7015 - acc: 0.55 - ETA: 14:58 - loss: 0.7014 - acc: 0.55 - ETA: 14:58 - loss: 0.7011 - acc: 0.55 - ETA: 14:58 - loss: 0.7008 - acc: 0.55 - ETA: 14:57 - loss: 0.7009 - acc: 0.55 - ETA: 14:55 - loss: 0.7006 - acc: 0.56 - ETA: 14:53 - loss: 0.7003 - acc: 0.56 - ETA: 14:51 - loss: 0.7003 - acc: 0.56 - ETA: 14:49 - loss: 0.7001 - acc: 0.56 - ETA: 14:47 - loss: 0.6999 - acc: 0.56 - ETA: 14:44 - loss: 0.6999 - acc: 0.56 - ETA: 14:42 - loss: 0.6996 - acc: 0.56 - ETA: 14:40 - loss: 0.6994 - acc: 0.55 - ETA: 14:37 - loss: 0.6994 - acc: 0.55 - ETA: 14:35 - loss: 0.6991 - acc: 0.56 - ETA: 14:32 - loss: 0.6991 - acc: 0.56 - ETA: 14:30 - loss: 0.6990 - acc: 0.56 - ETA: 14:27 - loss: 0.6981 - acc: 0.56 - ETA: 14:25 - loss: 0.6980 - acc: 0.56 - ETA: 14:22 - loss: 0.6980 - acc: 0.56 - ETA: 14:20 - loss: 0.6975 - acc: 0.56 - ETA: 14:17 - loss: 0.6973 - acc: 0.56 - ETA: 14:15 - loss: 0.6970 - acc: 0.56 - ETA: 14:12 - loss: 0.6966 - acc: 0.56 - ETA: 14:10 - loss: 0.6961 - acc: 0.56 - ETA: 14:08 - loss: 0.6960 - acc: 0.56 - ETA: 14:05 - loss: 0.6954 - acc: 0.56 - ETA: 14:03 - loss: 0.6943 - acc: 0.56 - ETA: 14:00 - loss: 0.6943 - acc: 0.56 - ETA: 13:58 - loss: 0.6937 - acc: 0.56 - ETA: 13:56 - loss: 0.6929 - acc: 0.56 - ETA: 13:54 - loss: 0.6928 - acc: 0.57 - ETA: 13:52 - loss: 0.6924 - acc: 0.57 - ETA: 13:50 - loss: 0.6914 - acc: 0.57 - ETA: 13:48 - loss: 0.6914 - acc: 0.57 - ETA: 13:46 - loss: 0.6925 - acc: 0.57 - ETA: 13:44 - loss: 0.6933 - acc: 0.57 - ETA: 13:42 - loss: 0.6935 - acc: 0.57 - ETA: 13:39 - loss: 0.6935 - acc: 0.57 - ETA: 13:37 - loss: 0.6932 - acc: 0.57 - ETA: 13:35 - loss: 0.6931 - acc: 0.57 - ETA: 13:32 - loss: 0.6926 - acc: 0.57 - ETA: 13:29 - loss: 0.6921 - acc: 0.57 - ETA: 13:26 - loss: 0.6920 - acc: 0.57 - ETA: 13:24 - loss: 0.6921 - acc: 0.57 - ETA: 13:22 - loss: 0.6918 - acc: 0.57 - ETA: 13:20 - loss: 0.6911 - acc: 0.57 - ETA: 13:17 - loss: 0.6910 - acc: 0.57 - ETA: 13:15 - loss: 0.6909 - acc: 0.57 - ETA: 13:14 - loss: 0.6909 - acc: 0.57 - ETA: 13:12 - loss: 0.6911 - acc: 0.57 - ETA: 13:10 - loss: 0.6912 - acc: 0.57 - ETA: 13:07 - loss: 0.6914 - acc: 0.57 - ETA: 13:06 - loss: 0.6912 - acc: 0.57 - ETA: 13:03 - loss: 0.6912 - acc: 0.57 - ETA: 13:00 - loss: 0.6909 - acc: 0.57 - ETA: 12:58 - loss: 0.6908 - acc: 0.57 - ETA: 12:56 - loss: 0.6908 - acc: 0.57 - ETA: 12:53 - loss: 0.6906 - acc: 0.57 - ETA: 12:51 - loss: 0.6906 - acc: 0.57 - ETA: 12:48 - loss: 0.6902 - acc: 0.57 - ETA: 12:45 - loss: 0.6901 - acc: 0.57 - ETA: 12:43 - loss: 0.6900 - acc: 0.57 - ETA: 12:42 - loss: 0.6900 - acc: 0.57 - ETA: 12:40 - loss: 0.6898 - acc: 0.57 - ETA: 12:38 - loss: 0.6894 - acc: 0.57 - ETA: 12:36 - loss: 0.6891 - acc: 0.57 - ETA: 12:33 - loss: 0.6887 - acc: 0.57 - ETA: 12:31 - loss: 0.6881 - acc: 0.57 - ETA: 12:29 - loss: 0.6878 - acc: 0.57 - ETA: 12:26 - loss: 0.6876 - acc: 0.57 - ETA: 12:24 - loss: 0.6875 - acc: 0.57 - ETA: 12:21 - loss: 0.6869 - acc: 0.58 - ETA: 12:19 - loss: 0.6865 - acc: 0.58 - ETA: 12:16 - loss: 0.6870 - acc: 0.58 - ETA: 12:14 - loss: 0.6868 - acc: 0.58 - ETA: 12:11 - loss: 0.6868 - acc: 0.58 - ETA: 12:10 - loss: 0.6871 - acc: 0.58 - ETA: 12:08 - loss: 0.6872 - acc: 0.58 - ETA: 12:07 - loss: 0.6868 - acc: 0.58 - ETA: 12:06 - loss: 0.6866 - acc: 0.58 - ETA: 12:05 - loss: 0.6863 - acc: 0.5824\b\b\b\b\b\b\b\b\b\b\b\b\b\b\b\b\b\b\b\b\b\b\b\b\b\b\b\b\b\b\b\b\b\b\b\b\b\b\b\b\b\b\b\b\b\b\b\b\b\b\b\b\b\b\b\b\b\b\b\b\b\b\b\b\b\b\b\b\b\b\b\b\b\b\b\b\b\b\b\b\b\b\b\b\b\b"
     ]
    },
    {
     "name": "stdout",
     "output_type": "stream",
     "text": [
      "13024/17462 [=====================>........] - ETA: 12:03 - loss: 0.6863 - acc: 0.58 - ETA: 12:01 - loss: 0.6860 - acc: 0.58 - ETA: 11:59 - loss: 0.6857 - acc: 0.58 - ETA: 11:57 - loss: 0.6858 - acc: 0.58 - ETA: 11:54 - loss: 0.6857 - acc: 0.58 - ETA: 11:52 - loss: 0.6855 - acc: 0.58 - ETA: 11:49 - loss: 0.6857 - acc: 0.58 - ETA: 11:47 - loss: 0.6853 - acc: 0.58 - ETA: 11:44 - loss: 0.6850 - acc: 0.58 - ETA: 11:42 - loss: 0.6849 - acc: 0.58 - ETA: 11:40 - loss: 0.6843 - acc: 0.58 - ETA: 11:38 - loss: 0.6843 - acc: 0.58 - ETA: 11:36 - loss: 0.6842 - acc: 0.58 - ETA: 11:33 - loss: 0.6843 - acc: 0.58 - ETA: 11:31 - loss: 0.6842 - acc: 0.58 - ETA: 11:29 - loss: 0.6841 - acc: 0.58 - ETA: 11:27 - loss: 0.6837 - acc: 0.58 - ETA: 11:26 - loss: 0.6834 - acc: 0.58 - ETA: 11:23 - loss: 0.6837 - acc: 0.58 - ETA: 11:21 - loss: 0.6836 - acc: 0.58 - ETA: 11:18 - loss: 0.6835 - acc: 0.58 - ETA: 11:16 - loss: 0.6834 - acc: 0.58 - ETA: 11:13 - loss: 0.6830 - acc: 0.58 - ETA: 11:10 - loss: 0.6830 - acc: 0.58 - ETA: 11:08 - loss: 0.6829 - acc: 0.58 - ETA: 11:05 - loss: 0.6830 - acc: 0.58 - ETA: 11:03 - loss: 0.6829 - acc: 0.58 - ETA: 11:00 - loss: 0.6829 - acc: 0.58 - ETA: 10:58 - loss: 0.6823 - acc: 0.58 - ETA: 10:56 - loss: 0.6820 - acc: 0.58 - ETA: 10:53 - loss: 0.6826 - acc: 0.58 - ETA: 10:51 - loss: 0.6822 - acc: 0.58 - ETA: 10:48 - loss: 0.6821 - acc: 0.58 - ETA: 10:46 - loss: 0.6822 - acc: 0.58 - ETA: 10:44 - loss: 0.6817 - acc: 0.58 - ETA: 10:41 - loss: 0.6815 - acc: 0.58 - ETA: 10:39 - loss: 0.6813 - acc: 0.58 - ETA: 10:36 - loss: 0.6812 - acc: 0.58 - ETA: 10:34 - loss: 0.6816 - acc: 0.58 - ETA: 10:31 - loss: 0.6819 - acc: 0.58 - ETA: 10:29 - loss: 0.6811 - acc: 0.58 - ETA: 10:27 - loss: 0.6811 - acc: 0.58 - ETA: 10:24 - loss: 0.6809 - acc: 0.58 - ETA: 10:22 - loss: 0.6807 - acc: 0.58 - ETA: 10:20 - loss: 0.6805 - acc: 0.58 - ETA: 10:17 - loss: 0.6801 - acc: 0.58 - ETA: 10:16 - loss: 0.6799 - acc: 0.59 - ETA: 10:15 - loss: 0.6794 - acc: 0.59 - ETA: 10:13 - loss: 0.6792 - acc: 0.59 - ETA: 10:11 - loss: 0.6791 - acc: 0.59 - ETA: 10:09 - loss: 0.6788 - acc: 0.59 - ETA: 10:07 - loss: 0.6789 - acc: 0.59 - ETA: 10:05 - loss: 0.6792 - acc: 0.59 - ETA: 10:03 - loss: 0.6792 - acc: 0.59 - ETA: 10:00 - loss: 0.6791 - acc: 0.59 - ETA: 9:58 - loss: 0.6793 - acc: 0.5911 - ETA: 9:55 - loss: 0.6789 - acc: 0.591 - ETA: 9:53 - loss: 0.6788 - acc: 0.591 - ETA: 9:51 - loss: 0.6787 - acc: 0.591 - ETA: 9:49 - loss: 0.6784 - acc: 0.591 - ETA: 9:46 - loss: 0.6785 - acc: 0.591 - ETA: 9:44 - loss: 0.6786 - acc: 0.591 - ETA: 9:42 - loss: 0.6786 - acc: 0.591 - ETA: 9:39 - loss: 0.6785 - acc: 0.590 - ETA: 9:37 - loss: 0.6786 - acc: 0.590 - ETA: 9:35 - loss: 0.6782 - acc: 0.591 - ETA: 9:33 - loss: 0.6780 - acc: 0.591 - ETA: 9:30 - loss: 0.6776 - acc: 0.591 - ETA: 9:28 - loss: 0.6778 - acc: 0.591 - ETA: 9:26 - loss: 0.6776 - acc: 0.591 - ETA: 9:24 - loss: 0.6774 - acc: 0.591 - ETA: 9:22 - loss: 0.6771 - acc: 0.592 - ETA: 9:19 - loss: 0.6769 - acc: 0.591 - ETA: 9:17 - loss: 0.6768 - acc: 0.591 - ETA: 9:15 - loss: 0.6764 - acc: 0.592 - ETA: 9:13 - loss: 0.6762 - acc: 0.592 - ETA: 9:11 - loss: 0.6761 - acc: 0.593 - ETA: 9:10 - loss: 0.6761 - acc: 0.592 - ETA: 9:08 - loss: 0.6759 - acc: 0.593 - ETA: 9:06 - loss: 0.6756 - acc: 0.594 - ETA: 9:03 - loss: 0.6753 - acc: 0.594 - ETA: 9:01 - loss: 0.6749 - acc: 0.595 - ETA: 8:59 - loss: 0.6746 - acc: 0.595 - ETA: 8:57 - loss: 0.6748 - acc: 0.595 - ETA: 8:54 - loss: 0.6750 - acc: 0.595 - ETA: 8:53 - loss: 0.6746 - acc: 0.595 - ETA: 8:51 - loss: 0.6746 - acc: 0.595 - ETA: 8:49 - loss: 0.6740 - acc: 0.596 - ETA: 8:47 - loss: 0.6735 - acc: 0.596 - ETA: 8:45 - loss: 0.6732 - acc: 0.596 - ETA: 8:43 - loss: 0.6731 - acc: 0.596 - ETA: 8:40 - loss: 0.6732 - acc: 0.597 - ETA: 8:38 - loss: 0.6726 - acc: 0.597 - ETA: 8:36 - loss: 0.6728 - acc: 0.597 - ETA: 8:34 - loss: 0.6728 - acc: 0.597 - ETA: 8:31 - loss: 0.6726 - acc: 0.598 - ETA: 8:29 - loss: 0.6730 - acc: 0.598 - ETA: 8:27 - loss: 0.6726 - acc: 0.598 - ETA: 8:25 - loss: 0.6729 - acc: 0.598 - ETA: 8:23 - loss: 0.6733 - acc: 0.598 - ETA: 8:21 - loss: 0.6730 - acc: 0.598 - ETA: 8:18 - loss: 0.6728 - acc: 0.599 - ETA: 8:16 - loss: 0.6728 - acc: 0.599 - ETA: 8:14 - loss: 0.6725 - acc: 0.599 - ETA: 8:12 - loss: 0.6725 - acc: 0.599 - ETA: 8:10 - loss: 0.6724 - acc: 0.599 - ETA: 8:08 - loss: 0.6721 - acc: 0.600 - ETA: 8:06 - loss: 0.6719 - acc: 0.600 - ETA: 8:04 - loss: 0.6717 - acc: 0.601 - ETA: 8:01 - loss: 0.6715 - acc: 0.601 - ETA: 7:59 - loss: 0.6712 - acc: 0.602 - ETA: 7:57 - loss: 0.6712 - acc: 0.601 - ETA: 7:55 - loss: 0.6710 - acc: 0.602 - ETA: 7:53 - loss: 0.6708 - acc: 0.602 - ETA: 7:51 - loss: 0.6706 - acc: 0.602 - ETA: 7:50 - loss: 0.6709 - acc: 0.602 - ETA: 7:48 - loss: 0.6713 - acc: 0.602 - ETA: 7:46 - loss: 0.6707 - acc: 0.603 - ETA: 7:43 - loss: 0.6707 - acc: 0.603 - ETA: 7:41 - loss: 0.6711 - acc: 0.602 - ETA: 7:39 - loss: 0.6708 - acc: 0.602 - ETA: 7:37 - loss: 0.6709 - acc: 0.602 - ETA: 7:35 - loss: 0.6708 - acc: 0.602 - ETA: 7:32 - loss: 0.6707 - acc: 0.602 - ETA: 7:30 - loss: 0.6707 - acc: 0.602 - ETA: 7:28 - loss: 0.6704 - acc: 0.602 - ETA: 7:26 - loss: 0.6701 - acc: 0.603 - ETA: 7:24 - loss: 0.6696 - acc: 0.603 - ETA: 7:22 - loss: 0.6697 - acc: 0.604 - ETA: 7:20 - loss: 0.6695 - acc: 0.604 - ETA: 7:18 - loss: 0.6692 - acc: 0.604 - ETA: 7:16 - loss: 0.6689 - acc: 0.605 - ETA: 7:14 - loss: 0.6688 - acc: 0.605 - ETA: 7:12 - loss: 0.6684 - acc: 0.605 - ETA: 7:10 - loss: 0.6682 - acc: 0.606 - ETA: 7:08 - loss: 0.6681 - acc: 0.606 - ETA: 7:06 - loss: 0.6680 - acc: 0.606 - ETA: 7:04 - loss: 0.6679 - acc: 0.606 - ETA: 7:02 - loss: 0.6677 - acc: 0.606 - ETA: 7:00 - loss: 0.6674 - acc: 0.607 - ETA: 6:58 - loss: 0.6675 - acc: 0.607 - ETA: 6:56 - loss: 0.6670 - acc: 0.607 - ETA: 6:54 - loss: 0.6667 - acc: 0.607 - ETA: 6:52 - loss: 0.6667 - acc: 0.607 - ETA: 6:50 - loss: 0.6667 - acc: 0.607 - ETA: 6:48 - loss: 0.6664 - acc: 0.608 - ETA: 6:46 - loss: 0.6666 - acc: 0.607 - ETA: 6:44 - loss: 0.6664 - acc: 0.608 - ETA: 6:42 - loss: 0.6664 - acc: 0.608 - ETA: 6:40 - loss: 0.6673 - acc: 0.607 - ETA: 6:38 - loss: 0.6675 - acc: 0.607 - ETA: 6:36 - loss: 0.6675 - acc: 0.607 - ETA: 6:34 - loss: 0.6672 - acc: 0.607 - ETA: 6:32 - loss: 0.6672 - acc: 0.607 - ETA: 6:29 - loss: 0.6670 - acc: 0.608 - ETA: 6:27 - loss: 0.6669 - acc: 0.608 - ETA: 6:25 - loss: 0.6667 - acc: 0.608 - ETA: 6:23 - loss: 0.6667 - acc: 0.608 - ETA: 6:21 - loss: 0.6666 - acc: 0.608 - ETA: 6:20 - loss: 0.6664 - acc: 0.608 - ETA: 6:18 - loss: 0.6664 - acc: 0.608 - ETA: 6:16 - loss: 0.6663 - acc: 0.608 - ETA: 6:14 - loss: 0.6661 - acc: 0.608 - ETA: 6:12 - loss: 0.6662 - acc: 0.609 - ETA: 6:10 - loss: 0.6662 - acc: 0.609 - ETA: 6:08 - loss: 0.6665 - acc: 0.608 - ETA: 6:06 - loss: 0.6668 - acc: 0.608 - ETA: 6:03 - loss: 0.6665 - acc: 0.609 - ETA: 6:02 - loss: 0.6665 - acc: 0.609 - ETA: 6:00 - loss: 0.6661 - acc: 0.609 - ETA: 5:58 - loss: 0.6660 - acc: 0.610 - ETA: 5:56 - loss: 0.6660 - acc: 0.609 - ETA: 5:54 - loss: 0.6659 - acc: 0.610 - ETA: 5:52 - loss: 0.6657 - acc: 0.610 - ETA: 5:50 - loss: 0.6655 - acc: 0.610 - ETA: 5:48 - loss: 0.6656 - acc: 0.610 - ETA: 5:46 - loss: 0.6654 - acc: 0.610 - ETA: 5:44 - loss: 0.6656 - acc: 0.610 - ETA: 5:42 - loss: 0.6657 - acc: 0.610 - ETA: 5:40 - loss: 0.6657 - acc: 0.610 - ETA: 5:38 - loss: 0.6657 - acc: 0.610 - ETA: 5:36 - loss: 0.6655 - acc: 0.610 - ETA: 5:34 - loss: 0.6655 - acc: 0.610 - ETA: 5:32 - loss: 0.6655 - acc: 0.610 - ETA: 5:30 - loss: 0.6652 - acc: 0.610 - ETA: 5:28 - loss: 0.6652 - acc: 0.610 - ETA: 5:26 - loss: 0.6653 - acc: 0.610 - ETA: 5:24 - loss: 0.6651 - acc: 0.611 - ETA: 5:22 - loss: 0.6651 - acc: 0.611 - ETA: 5:20 - loss: 0.6651 - acc: 0.611 - ETA: 5:18 - loss: 0.6649 - acc: 0.611 - ETA: 5:16 - loss: 0.6648 - acc: 0.611 - ETA: 5:14 - loss: 0.6649 - acc: 0.611 - ETA: 5:12 - loss: 0.6652 - acc: 0.611 - ETA: 5:10 - loss: 0.6654 - acc: 0.611 - ETA: 5:08 - loss: 0.6650 - acc: 0.611 - ETA: 5:06 - loss: 0.6650 - acc: 0.611 - ETA: 5:04 - loss: 0.6651 - acc: 0.611 - ETA: 5:02 - loss: 0.6648 - acc: 0.611 - ETA: 5:00 - loss: 0.6649 - acc: 0.611 - ETA: 4:58 - loss: 0.6647 - acc: 0.611 - ETA: 4:56 - loss: 0.6646 - acc: 0.611 - ETA: 4:54 - loss: 0.6646 - acc: 0.611 - ETA: 4:52 - loss: 0.6645 - acc: 0.6118"
     ]
    },
    {
     "name": "stdout",
     "output_type": "stream",
     "text": [
      "17462/17462 [==============================] - ETA: 4:50 - loss: 0.6645 - acc: 0.611 - ETA: 4:47 - loss: 0.6644 - acc: 0.612 - ETA: 4:45 - loss: 0.6642 - acc: 0.612 - ETA: 4:43 - loss: 0.6637 - acc: 0.612 - ETA: 4:41 - loss: 0.6636 - acc: 0.612 - ETA: 4:39 - loss: 0.6635 - acc: 0.612 - ETA: 4:37 - loss: 0.6632 - acc: 0.613 - ETA: 4:35 - loss: 0.6629 - acc: 0.613 - ETA: 4:33 - loss: 0.6631 - acc: 0.613 - ETA: 4:31 - loss: 0.6628 - acc: 0.613 - ETA: 4:29 - loss: 0.6627 - acc: 0.614 - ETA: 4:27 - loss: 0.6627 - acc: 0.614 - ETA: 4:25 - loss: 0.6626 - acc: 0.614 - ETA: 4:23 - loss: 0.6625 - acc: 0.614 - ETA: 4:21 - loss: 0.6623 - acc: 0.614 - ETA: 4:19 - loss: 0.6623 - acc: 0.614 - ETA: 4:17 - loss: 0.6621 - acc: 0.615 - ETA: 4:15 - loss: 0.6621 - acc: 0.614 - ETA: 4:13 - loss: 0.6620 - acc: 0.614 - ETA: 4:11 - loss: 0.6618 - acc: 0.615 - ETA: 4:09 - loss: 0.6614 - acc: 0.615 - ETA: 4:07 - loss: 0.6613 - acc: 0.615 - ETA: 4:05 - loss: 0.6610 - acc: 0.616 - ETA: 4:03 - loss: 0.6607 - acc: 0.616 - ETA: 4:01 - loss: 0.6606 - acc: 0.616 - ETA: 3:58 - loss: 0.6607 - acc: 0.616 - ETA: 3:56 - loss: 0.6606 - acc: 0.616 - ETA: 3:54 - loss: 0.6607 - acc: 0.616 - ETA: 3:52 - loss: 0.6603 - acc: 0.616 - ETA: 3:50 - loss: 0.6600 - acc: 0.616 - ETA: 3:48 - loss: 0.6600 - acc: 0.616 - ETA: 3:46 - loss: 0.6598 - acc: 0.617 - ETA: 3:44 - loss: 0.6599 - acc: 0.617 - ETA: 3:42 - loss: 0.6596 - acc: 0.617 - ETA: 3:40 - loss: 0.6595 - acc: 0.617 - ETA: 3:38 - loss: 0.6595 - acc: 0.617 - ETA: 3:36 - loss: 0.6594 - acc: 0.617 - ETA: 3:33 - loss: 0.6590 - acc: 0.618 - ETA: 3:31 - loss: 0.6587 - acc: 0.618 - ETA: 3:29 - loss: 0.6584 - acc: 0.618 - ETA: 3:27 - loss: 0.6583 - acc: 0.618 - ETA: 3:25 - loss: 0.6582 - acc: 0.619 - ETA: 3:23 - loss: 0.6582 - acc: 0.619 - ETA: 3:21 - loss: 0.6581 - acc: 0.619 - ETA: 3:19 - loss: 0.6579 - acc: 0.619 - ETA: 3:16 - loss: 0.6579 - acc: 0.619 - ETA: 3:14 - loss: 0.6579 - acc: 0.619 - ETA: 3:12 - loss: 0.6578 - acc: 0.619 - ETA: 3:10 - loss: 0.6576 - acc: 0.619 - ETA: 3:08 - loss: 0.6577 - acc: 0.619 - ETA: 3:06 - loss: 0.6577 - acc: 0.619 - ETA: 3:04 - loss: 0.6575 - acc: 0.619 - ETA: 3:02 - loss: 0.6573 - acc: 0.619 - ETA: 3:00 - loss: 0.6571 - acc: 0.619 - ETA: 2:58 - loss: 0.6572 - acc: 0.619 - ETA: 2:56 - loss: 0.6572 - acc: 0.619 - ETA: 2:53 - loss: 0.6570 - acc: 0.619 - ETA: 2:51 - loss: 0.6569 - acc: 0.619 - ETA: 2:49 - loss: 0.6571 - acc: 0.619 - ETA: 2:47 - loss: 0.6570 - acc: 0.619 - ETA: 2:45 - loss: 0.6570 - acc: 0.619 - ETA: 2:43 - loss: 0.6569 - acc: 0.619 - ETA: 2:41 - loss: 0.6567 - acc: 0.620 - ETA: 2:39 - loss: 0.6567 - acc: 0.619 - ETA: 2:37 - loss: 0.6564 - acc: 0.620 - ETA: 2:35 - loss: 0.6563 - acc: 0.620 - ETA: 2:32 - loss: 0.6561 - acc: 0.620 - ETA: 2:30 - loss: 0.6557 - acc: 0.621 - ETA: 2:28 - loss: 0.6555 - acc: 0.621 - ETA: 2:26 - loss: 0.6553 - acc: 0.621 - ETA: 2:24 - loss: 0.6554 - acc: 0.621 - ETA: 2:22 - loss: 0.6552 - acc: 0.621 - ETA: 2:20 - loss: 0.6553 - acc: 0.621 - ETA: 2:18 - loss: 0.6551 - acc: 0.621 - ETA: 2:16 - loss: 0.6549 - acc: 0.622 - ETA: 2:14 - loss: 0.6547 - acc: 0.622 - ETA: 2:11 - loss: 0.6546 - acc: 0.622 - ETA: 2:09 - loss: 0.6547 - acc: 0.622 - ETA: 2:07 - loss: 0.6547 - acc: 0.622 - ETA: 2:05 - loss: 0.6548 - acc: 0.622 - ETA: 2:03 - loss: 0.6546 - acc: 0.623 - ETA: 2:01 - loss: 0.6544 - acc: 0.623 - ETA: 1:59 - loss: 0.6544 - acc: 0.623 - ETA: 1:56 - loss: 0.6541 - acc: 0.623 - ETA: 1:54 - loss: 0.6538 - acc: 0.623 - ETA: 1:52 - loss: 0.6537 - acc: 0.623 - ETA: 1:50 - loss: 0.6536 - acc: 0.623 - ETA: 1:48 - loss: 0.6535 - acc: 0.623 - ETA: 1:46 - loss: 0.6534 - acc: 0.623 - ETA: 1:44 - loss: 0.6534 - acc: 0.624 - ETA: 1:42 - loss: 0.6532 - acc: 0.624 - ETA: 1:39 - loss: 0.6532 - acc: 0.624 - ETA: 1:37 - loss: 0.6531 - acc: 0.624 - ETA: 1:35 - loss: 0.6528 - acc: 0.624 - ETA: 1:33 - loss: 0.6528 - acc: 0.624 - ETA: 1:31 - loss: 0.6528 - acc: 0.624 - ETA: 1:29 - loss: 0.6526 - acc: 0.625 - ETA: 1:27 - loss: 0.6526 - acc: 0.625 - ETA: 1:25 - loss: 0.6525 - acc: 0.625 - ETA: 1:22 - loss: 0.6523 - acc: 0.625 - ETA: 1:20 - loss: 0.6521 - acc: 0.625 - ETA: 1:18 - loss: 0.6521 - acc: 0.625 - ETA: 1:16 - loss: 0.6521 - acc: 0.625 - ETA: 1:14 - loss: 0.6521 - acc: 0.626 - ETA: 1:12 - loss: 0.6520 - acc: 0.626 - ETA: 1:10 - loss: 0.6520 - acc: 0.626 - ETA: 1:07 - loss: 0.6523 - acc: 0.626 - ETA: 1:05 - loss: 0.6522 - acc: 0.626 - ETA: 1:03 - loss: 0.6519 - acc: 0.626 - ETA: 1:01 - loss: 0.6521 - acc: 0.626 - ETA: 59s - loss: 0.6520 - acc: 0.626 - ETA: 57s - loss: 0.6519 - acc: 0.62 - ETA: 55s - loss: 0.6520 - acc: 0.62 - ETA: 53s - loss: 0.6518 - acc: 0.62 - ETA: 50s - loss: 0.6517 - acc: 0.62 - ETA: 48s - loss: 0.6517 - acc: 0.62 - ETA: 46s - loss: 0.6517 - acc: 0.62 - ETA: 44s - loss: 0.6516 - acc: 0.62 - ETA: 42s - loss: 0.6517 - acc: 0.62 - ETA: 40s - loss: 0.6517 - acc: 0.62 - ETA: 38s - loss: 0.6515 - acc: 0.62 - ETA: 35s - loss: 0.6515 - acc: 0.62 - ETA: 33s - loss: 0.6515 - acc: 0.62 - ETA: 31s - loss: 0.6514 - acc: 0.62 - ETA: 29s - loss: 0.6513 - acc: 0.62 - ETA: 27s - loss: 0.6512 - acc: 0.62 - ETA: 25s - loss: 0.6510 - acc: 0.62 - ETA: 23s - loss: 0.6510 - acc: 0.62 - ETA: 20s - loss: 0.6513 - acc: 0.62 - ETA: 18s - loss: 0.6513 - acc: 0.62 - ETA: 16s - loss: 0.6512 - acc: 0.62 - ETA: 14s - loss: 0.6512 - acc: 0.62 - ETA: 12s - loss: 0.6510 - acc: 0.62 - ETA: 10s - loss: 0.6510 - acc: 0.62 - ETA: 7s - loss: 0.6509 - acc: 0.6272 - ETA: 5s - loss: 0.6509 - acc: 0.627 - ETA: 3s - loss: 0.6511 - acc: 0.626 - ETA: 1s - loss: 0.6510 - acc: 0.626 - 1342s 77ms/step - loss: 0.6510 - acc: 0.6266 - val_loss: 0.6077 - val_acc: 0.6804\n",
      "Epoch 2/3\n"
     ]
    },
    {
     "name": "stdout",
     "output_type": "stream",
     "text": [
      " 6528/17462 [==========>...................] - ETA: 22:13 - loss: 0.5832 - acc: 0.65 - ETA: 21:19 - loss: 0.6105 - acc: 0.68 - ETA: 21:02 - loss: 0.5978 - acc: 0.70 - ETA: 20:48 - loss: 0.5953 - acc: 0.70 - ETA: 20:42 - loss: 0.6045 - acc: 0.68 - ETA: 20:45 - loss: 0.6215 - acc: 0.66 - ETA: 20:53 - loss: 0.6136 - acc: 0.67 - ETA: 20:54 - loss: 0.6146 - acc: 0.67 - ETA: 20:46 - loss: 0.6068 - acc: 0.67 - ETA: 20:38 - loss: 0.6016 - acc: 0.67 - ETA: 20:48 - loss: 0.5987 - acc: 0.67 - ETA: 20:46 - loss: 0.5985 - acc: 0.67 - ETA: 20:43 - loss: 0.5997 - acc: 0.67 - ETA: 20:37 - loss: 0.5922 - acc: 0.68 - ETA: 20:32 - loss: 0.5902 - acc: 0.68 - ETA: 20:29 - loss: 0.5863 - acc: 0.68 - ETA: 20:25 - loss: 0.5787 - acc: 0.69 - ETA: 20:21 - loss: 0.5751 - acc: 0.70 - ETA: 20:16 - loss: 0.5704 - acc: 0.71 - ETA: 20:11 - loss: 0.5711 - acc: 0.71 - ETA: 20:07 - loss: 0.5683 - acc: 0.71 - ETA: 20:08 - loss: 0.5709 - acc: 0.70 - ETA: 20:06 - loss: 0.5711 - acc: 0.70 - ETA: 20:14 - loss: 0.5719 - acc: 0.70 - ETA: 20:17 - loss: 0.5702 - acc: 0.70 - ETA: 20:16 - loss: 0.5701 - acc: 0.70 - ETA: 20:14 - loss: 0.5724 - acc: 0.70 - ETA: 20:11 - loss: 0.5752 - acc: 0.70 - ETA: 20:07 - loss: 0.5729 - acc: 0.70 - ETA: 20:06 - loss: 0.5741 - acc: 0.70 - ETA: 20:04 - loss: 0.5775 - acc: 0.70 - ETA: 20:01 - loss: 0.5720 - acc: 0.70 - ETA: 19:57 - loss: 0.5747 - acc: 0.70 - ETA: 19:54 - loss: 0.5751 - acc: 0.71 - ETA: 19:50 - loss: 0.5755 - acc: 0.71 - ETA: 19:46 - loss: 0.5750 - acc: 0.71 - ETA: 19:45 - loss: 0.5717 - acc: 0.71 - ETA: 19:53 - loss: 0.5747 - acc: 0.70 - ETA: 19:57 - loss: 0.5750 - acc: 0.70 - ETA: 19:58 - loss: 0.5775 - acc: 0.70 - ETA: 19:55 - loss: 0.5747 - acc: 0.70 - ETA: 19:55 - loss: 0.5774 - acc: 0.70 - ETA: 19:54 - loss: 0.5791 - acc: 0.70 - ETA: 19:50 - loss: 0.5777 - acc: 0.70 - ETA: 19:46 - loss: 0.5769 - acc: 0.70 - ETA: 19:44 - loss: 0.5770 - acc: 0.70 - ETA: 19:43 - loss: 0.5798 - acc: 0.70 - ETA: 19:42 - loss: 0.5782 - acc: 0.70 - ETA: 19:38 - loss: 0.5775 - acc: 0.70 - ETA: 19:35 - loss: 0.5770 - acc: 0.70 - ETA: 19:31 - loss: 0.5773 - acc: 0.70 - ETA: 19:28 - loss: 0.5779 - acc: 0.70 - ETA: 19:24 - loss: 0.5769 - acc: 0.70 - ETA: 19:20 - loss: 0.5795 - acc: 0.70 - ETA: 19:18 - loss: 0.5786 - acc: 0.70 - ETA: 19:16 - loss: 0.5773 - acc: 0.70 - ETA: 19:14 - loss: 0.5763 - acc: 0.70 - ETA: 19:11 - loss: 0.5746 - acc: 0.70 - ETA: 19:07 - loss: 0.5725 - acc: 0.70 - ETA: 19:05 - loss: 0.5712 - acc: 0.70 - ETA: 19:03 - loss: 0.5699 - acc: 0.71 - ETA: 19:00 - loss: 0.5726 - acc: 0.70 - ETA: 18:58 - loss: 0.5744 - acc: 0.70 - ETA: 18:57 - loss: 0.5738 - acc: 0.70 - ETA: 18:55 - loss: 0.5758 - acc: 0.70 - ETA: 18:52 - loss: 0.5762 - acc: 0.70 - ETA: 18:50 - loss: 0.5753 - acc: 0.70 - ETA: 18:47 - loss: 0.5765 - acc: 0.70 - ETA: 18:44 - loss: 0.5753 - acc: 0.70 - ETA: 18:40 - loss: 0.5753 - acc: 0.70 - ETA: 18:37 - loss: 0.5760 - acc: 0.70 - ETA: 18:34 - loss: 0.5761 - acc: 0.70 - ETA: 18:29 - loss: 0.5743 - acc: 0.70 - ETA: 18:25 - loss: 0.5732 - acc: 0.71 - ETA: 18:20 - loss: 0.5732 - acc: 0.71 - ETA: 18:16 - loss: 0.5731 - acc: 0.71 - ETA: 18:12 - loss: 0.5747 - acc: 0.70 - ETA: 18:08 - loss: 0.5740 - acc: 0.70 - ETA: 18:05 - loss: 0.5743 - acc: 0.70 - ETA: 18:00 - loss: 0.5738 - acc: 0.70 - ETA: 17:56 - loss: 0.5725 - acc: 0.71 - ETA: 17:51 - loss: 0.5722 - acc: 0.71 - ETA: 17:46 - loss: 0.5729 - acc: 0.71 - ETA: 17:42 - loss: 0.5748 - acc: 0.71 - ETA: 17:37 - loss: 0.5757 - acc: 0.71 - ETA: 17:34 - loss: 0.5762 - acc: 0.71 - ETA: 17:30 - loss: 0.5778 - acc: 0.70 - ETA: 17:27 - loss: 0.5776 - acc: 0.70 - ETA: 17:22 - loss: 0.5774 - acc: 0.70 - ETA: 17:18 - loss: 0.5772 - acc: 0.70 - ETA: 17:14 - loss: 0.5777 - acc: 0.70 - ETA: 17:10 - loss: 0.5788 - acc: 0.70 - ETA: 17:06 - loss: 0.5785 - acc: 0.70 - ETA: 17:01 - loss: 0.5772 - acc: 0.71 - ETA: 16:57 - loss: 0.5762 - acc: 0.71 - ETA: 16:54 - loss: 0.5757 - acc: 0.71 - ETA: 16:50 - loss: 0.5757 - acc: 0.71 - ETA: 16:46 - loss: 0.5762 - acc: 0.71 - ETA: 16:42 - loss: 0.5769 - acc: 0.71 - ETA: 16:38 - loss: 0.5775 - acc: 0.70 - ETA: 16:34 - loss: 0.5769 - acc: 0.70 - ETA: 16:30 - loss: 0.5763 - acc: 0.70 - ETA: 16:27 - loss: 0.5752 - acc: 0.71 - ETA: 16:23 - loss: 0.5758 - acc: 0.71 - ETA: 16:19 - loss: 0.5767 - acc: 0.70 - ETA: 16:16 - loss: 0.5766 - acc: 0.70 - ETA: 16:12 - loss: 0.5769 - acc: 0.70 - ETA: 16:09 - loss: 0.5769 - acc: 0.70 - ETA: 16:05 - loss: 0.5763 - acc: 0.70 - ETA: 16:02 - loss: 0.5759 - acc: 0.70 - ETA: 15:58 - loss: 0.5760 - acc: 0.70 - ETA: 15:55 - loss: 0.5749 - acc: 0.70 - ETA: 15:51 - loss: 0.5743 - acc: 0.71 - ETA: 15:48 - loss: 0.5740 - acc: 0.71 - ETA: 15:45 - loss: 0.5734 - acc: 0.71 - ETA: 15:42 - loss: 0.5731 - acc: 0.71 - ETA: 15:39 - loss: 0.5723 - acc: 0.71 - ETA: 15:36 - loss: 0.5716 - acc: 0.71 - ETA: 15:33 - loss: 0.5711 - acc: 0.71 - ETA: 15:29 - loss: 0.5718 - acc: 0.71 - ETA: 15:26 - loss: 0.5715 - acc: 0.71 - ETA: 15:23 - loss: 0.5717 - acc: 0.71 - ETA: 15:19 - loss: 0.5714 - acc: 0.71 - ETA: 15:16 - loss: 0.5710 - acc: 0.71 - ETA: 15:13 - loss: 0.5707 - acc: 0.71 - ETA: 15:10 - loss: 0.5720 - acc: 0.71 - ETA: 15:07 - loss: 0.5721 - acc: 0.71 - ETA: 15:04 - loss: 0.5741 - acc: 0.71 - ETA: 15:01 - loss: 0.5735 - acc: 0.71 - ETA: 14:58 - loss: 0.5735 - acc: 0.71 - ETA: 14:55 - loss: 0.5736 - acc: 0.71 - ETA: 14:52 - loss: 0.5737 - acc: 0.71 - ETA: 14:49 - loss: 0.5745 - acc: 0.71 - ETA: 14:45 - loss: 0.5748 - acc: 0.70 - ETA: 14:42 - loss: 0.5745 - acc: 0.70 - ETA: 14:40 - loss: 0.5743 - acc: 0.70 - ETA: 14:37 - loss: 0.5736 - acc: 0.71 - ETA: 14:34 - loss: 0.5735 - acc: 0.70 - ETA: 14:31 - loss: 0.5738 - acc: 0.71 - ETA: 14:28 - loss: 0.5735 - acc: 0.71 - ETA: 14:26 - loss: 0.5739 - acc: 0.70 - ETA: 14:23 - loss: 0.5744 - acc: 0.70 - ETA: 14:20 - loss: 0.5756 - acc: 0.70 - ETA: 14:18 - loss: 0.5756 - acc: 0.70 - ETA: 14:15 - loss: 0.5760 - acc: 0.70 - ETA: 14:14 - loss: 0.5764 - acc: 0.70 - ETA: 14:12 - loss: 0.5771 - acc: 0.70 - ETA: 14:09 - loss: 0.5773 - acc: 0.70 - ETA: 14:07 - loss: 0.5777 - acc: 0.70 - ETA: 14:04 - loss: 0.5777 - acc: 0.70 - ETA: 14:01 - loss: 0.5778 - acc: 0.70 - ETA: 13:59 - loss: 0.5777 - acc: 0.70 - ETA: 13:56 - loss: 0.5782 - acc: 0.70 - ETA: 13:54 - loss: 0.5770 - acc: 0.70 - ETA: 13:52 - loss: 0.5765 - acc: 0.70 - ETA: 13:49 - loss: 0.5766 - acc: 0.70 - ETA: 13:47 - loss: 0.5772 - acc: 0.70 - ETA: 13:44 - loss: 0.5780 - acc: 0.70 - ETA: 13:42 - loss: 0.5772 - acc: 0.70 - ETA: 13:39 - loss: 0.5770 - acc: 0.70 - ETA: 13:36 - loss: 0.5771 - acc: 0.70 - ETA: 13:34 - loss: 0.5776 - acc: 0.70 - ETA: 13:31 - loss: 0.5772 - acc: 0.70 - ETA: 13:29 - loss: 0.5771 - acc: 0.70 - ETA: 13:26 - loss: 0.5775 - acc: 0.70 - ETA: 13:24 - loss: 0.5775 - acc: 0.70 - ETA: 13:21 - loss: 0.5774 - acc: 0.70 - ETA: 13:19 - loss: 0.5776 - acc: 0.70 - ETA: 13:16 - loss: 0.5784 - acc: 0.70 - ETA: 13:14 - loss: 0.5784 - acc: 0.70 - ETA: 13:12 - loss: 0.5788 - acc: 0.70 - ETA: 13:09 - loss: 0.5789 - acc: 0.70 - ETA: 13:07 - loss: 0.5788 - acc: 0.70 - ETA: 13:04 - loss: 0.5790 - acc: 0.70 - ETA: 13:02 - loss: 0.5792 - acc: 0.70 - ETA: 12:59 - loss: 0.5786 - acc: 0.70 - ETA: 12:57 - loss: 0.5785 - acc: 0.70 - ETA: 12:55 - loss: 0.5790 - acc: 0.70 - ETA: 12:52 - loss: 0.5795 - acc: 0.70 - ETA: 12:50 - loss: 0.5791 - acc: 0.70 - ETA: 12:48 - loss: 0.5797 - acc: 0.70 - ETA: 12:45 - loss: 0.5801 - acc: 0.70 - ETA: 12:43 - loss: 0.5795 - acc: 0.70 - ETA: 12:40 - loss: 0.5791 - acc: 0.70 - ETA: 12:39 - loss: 0.5788 - acc: 0.70 - ETA: 12:37 - loss: 0.5792 - acc: 0.70 - ETA: 12:34 - loss: 0.5789 - acc: 0.70 - ETA: 12:32 - loss: 0.5789 - acc: 0.70 - ETA: 12:30 - loss: 0.5796 - acc: 0.70 - ETA: 12:28 - loss: 0.5797 - acc: 0.70 - ETA: 12:25 - loss: 0.5797 - acc: 0.70 - ETA: 12:23 - loss: 0.5797 - acc: 0.70 - ETA: 12:22 - loss: 0.5796 - acc: 0.70 - ETA: 12:21 - loss: 0.5804 - acc: 0.70 - ETA: 12:19 - loss: 0.5799 - acc: 0.70 - ETA: 12:18 - loss: 0.5792 - acc: 0.70 - ETA: 12:17 - loss: 0.5799 - acc: 0.70 - ETA: 12:15 - loss: 0.5796 - acc: 0.70 - ETA: 12:15 - loss: 0.5790 - acc: 0.70 - ETA: 12:14 - loss: 0.5788 - acc: 0.70 - ETA: 12:12 - loss: 0.5784 - acc: 0.70 - ETA: 12:11 - loss: 0.5783 - acc: 0.70 - ETA: 12:10 - loss: 0.5780 - acc: 0.70 - ETA: 12:09 - loss: 0.5779 - acc: 0.7082"
     ]
    },
    {
     "name": "stdout",
     "output_type": "stream",
     "text": [
      " 7936/17462 [============>.................] - ETA: 12:07 - loss: 0.5775 - acc: 0.70 - ETA: 12:06 - loss: 0.5768 - acc: 0.70 - ETA: 12:04 - loss: 0.5760 - acc: 0.70 - ETA: 12:02 - loss: 0.5763 - acc: 0.70 - ETA: 12:00 - loss: 0.5761 - acc: 0.70 - ETA: 11:59 - loss: 0.5758 - acc: 0.71 - ETA: 11:57 - loss: 0.5759 - acc: 0.71 - ETA: 11:55 - loss: 0.5764 - acc: 0.71 - ETA: 11:53 - loss: 0.5761 - acc: 0.70 - ETA: 11:52 - loss: 0.5762 - acc: 0.71 - ETA: 11:50 - loss: 0.5759 - acc: 0.70 - ETA: 11:48 - loss: 0.5761 - acc: 0.70 - ETA: 11:45 - loss: 0.5757 - acc: 0.71 - ETA: 11:43 - loss: 0.5757 - acc: 0.70 - ETA: 11:40 - loss: 0.5762 - acc: 0.70 - ETA: 11:37 - loss: 0.5761 - acc: 0.70 - ETA: 11:35 - loss: 0.5763 - acc: 0.70 - ETA: 11:32 - loss: 0.5768 - acc: 0.70 - ETA: 11:29 - loss: 0.5761 - acc: 0.70 - ETA: 11:27 - loss: 0.5761 - acc: 0.70 - ETA: 11:24 - loss: 0.5758 - acc: 0.70 - ETA: 11:21 - loss: 0.5752 - acc: 0.70 - ETA: 11:19 - loss: 0.5751 - acc: 0.70 - ETA: 11:16 - loss: 0.5749 - acc: 0.70 - ETA: 11:13 - loss: 0.5748 - acc: 0.70 - ETA: 11:11 - loss: 0.5744 - acc: 0.71 - ETA: 11:08 - loss: 0.5747 - acc: 0.71 - ETA: 11:05 - loss: 0.5748 - acc: 0.71 - ETA: 11:03 - loss: 0.5747 - acc: 0.70 - ETA: 11:00 - loss: 0.5741 - acc: 0.71 - ETA: 10:58 - loss: 0.5738 - acc: 0.71 - ETA: 10:55 - loss: 0.5737 - acc: 0.71 - ETA: 10:53 - loss: 0.5744 - acc: 0.70 - ETA: 10:50 - loss: 0.5745 - acc: 0.70 - ETA: 10:48 - loss: 0.5748 - acc: 0.70 - ETA: 10:45 - loss: 0.5751 - acc: 0.70 - ETA: 10:42 - loss: 0.5752 - acc: 0.70 - ETA: 10:40 - loss: 0.5748 - acc: 0.70 - ETA: 10:37 - loss: 0.5745 - acc: 0.70 - ETA: 10:35 - loss: 0.5745 - acc: 0.70 - ETA: 10:32 - loss: 0.5750 - acc: 0.70 - ETA: 10:30 - loss: 0.5743 - acc: 0.70 - ETA: 10:27 - loss: 0.5740 - acc: 0.70 - ETA: 10:25 - loss: 0.5741 - acc: 0.7094"
     ]
    }
   ],
   "source": [
    "import tensorflow as tf\n",
    "from tensorflow.keras.datasets import cifar10\n",
    "from tensorflow.keras.preprocessing.image import ImageDataGenerator\n",
    "from tensorflow.keras.models import Sequential\n",
    "from tensorflow.keras.layers import Dense, Dropout, Activation, Flatten\n",
    "from tensorflow.keras.layers import Conv2D, MaxPooling2D\n",
    "\n",
    "import pickle\n",
    "\n",
    "pickle_in = open(\"X.pickle\",\"rb\")\n",
    "X = pickle.load(pickle_in)\n",
    "\n",
    "pickle_in = open(\"y.pickle\",\"rb\")\n",
    "y = pickle.load(pickle_in)\n",
    "\n",
    "X = X/255.0\n",
    "\n",
    "model = Sequential()\n",
    "\n",
    "model.add(Conv2D(256, (3, 3), input_shape=X.shape[1:]))\n",
    "model.add(Activation('relu'))\n",
    "model.add(MaxPooling2D(pool_size=(2, 2)))\n",
    "\n",
    "model.add(Conv2D(256, (3, 3)))\n",
    "model.add(Activation('relu'))\n",
    "model.add(MaxPooling2D(pool_size=(2, 2)))\n",
    "\n",
    "model.add(Flatten())  # this converts our 3D feature maps to 1D feature vectors\n",
    "\n",
    "model.add(Dense(64))\n",
    "\n",
    "model.add(Dense(1))\n",
    "model.add(Activation('sigmoid'))\n",
    "\n",
    "model.compile(loss='binary_crossentropy',\n",
    "              optimizer='adam',\n",
    "              metrics=['accuracy'])\n",
    "\n",
    "model.fit(X, y, batch_size=32, epochs=3, validation_split=0.3)"
   ]
  },
  {
   "cell_type": "code",
   "execution_count": null,
   "metadata": {},
   "outputs": [],
   "source": []
  }
 ],
 "metadata": {
  "kernelspec": {
   "display_name": "Python 3",
   "language": "python",
   "name": "python3"
  },
  "language_info": {
   "codemirror_mode": {
    "name": "ipython",
    "version": 3
   },
   "file_extension": ".py",
   "mimetype": "text/x-python",
   "name": "python",
   "nbconvert_exporter": "python",
   "pygments_lexer": "ipython3",
   "version": "3.6.8"
  }
 },
 "nbformat": 4,
 "nbformat_minor": 2
}
